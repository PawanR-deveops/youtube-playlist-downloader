{
  "nbformat": 4,
  "nbformat_minor": 0,
  "metadata": {
    "colab": {
      "provenance": []
    },
    "kernelspec": {
      "name": "python3",
      "display_name": "Python 3"
    },
    "language_info": {
      "name": "python"
    }
  },
  "cells": [
    {
      "cell_type": "code",
      "execution_count": null,
      "metadata": {
        "id": "Gv79Z_RcGQsB"
      },
      "outputs": [],
      "source": [
        "!pip install yt-dlp"
      ]
    },
    {
      "cell_type": "code",
      "source": [
        "import os\n",
        "download_path = \"/content/yt_playlist_downloads\"\n",
        "os.makedirs(download_path, exist_ok=True)"
      ],
      "metadata": {
        "id": "5XxfhVqDIVbf"
      },
      "execution_count": null,
      "outputs": []
    },
    {
      "cell_type": "code",
      "source": [
        "import yt_dlp\n",
        "\n",
        "# Playlist URL\n",
        "playlist_url = input(\"Enter YouTube Playlist URL: \").strip()\n",
        "format_type = input(\"Download format - (video/audio): \").strip().lower()\n",
        "quality = input(\"Choose quality (360p / 720p / 1080p / best): \").strip()\n",
        "\n",
        "# Download options\n",
        "if format_type == \"audio\":\n",
        "    ydl_opts = {\n",
        "        'format': 'bestaudio/best',\n",
        "        'extractaudio': True,\n",
        "        'audioformat': 'mp3',\n",
        "        'outtmpl': f'{download_path}/%(title)s.%(ext)s',\n",
        "    }\n",
        "else:\n",
        "    ydl_opts = {\n",
        "        'format': f'bestvideo[height<={quality}]+bestaudio/best[height<={quality}]',\n",
        "        'outtmpl': f'{download_path}/%(title)s.%(ext)s',\n",
        "    }\n",
        "\n",
        "# Start download\n",
        "with yt_dlp.YoutubeDL(ydl_opts) as ydl:\n",
        "    ydl.download([playlist_url])"
      ],
      "metadata": {
        "id": "s5U6dyLlIbr-"
      },
      "execution_count": null,
      "outputs": []
    },
    {
      "cell_type": "code",
      "source": [
        "from google.colab import drive\n",
        "drive.mount('/content/drive')"
      ],
      "metadata": {
        "id": "qFB2_kttOhV5"
      },
      "execution_count": null,
      "outputs": []
    },
    {
      "cell_type": "code",
      "source": [
        "!zip -r /content/playlist_download.zip /content/yt_playlist_downloads\n"
      ],
      "metadata": {
        "id": "g1tomx0oIjT8"
      },
      "execution_count": null,
      "outputs": []
    },
    {
      "cell_type": "code",
      "source": [
        "from google.colab import files\n",
        "files.download(\"/content/playlist_download.zip\")\n"
      ],
      "metadata": {
        "id": "N-hLZckGIk3b"
      },
      "execution_count": null,
      "outputs": []
    },
    {
      "cell_type": "code",
      "source": [
        "import shutil\n",
        "import os\n",
        "\n",
        "# Paths to delete\n",
        "paths_to_delete = [\n",
        "    \"/content/sample_data\",\n",
        "    \"/content/yt_playlist_downloads\",\n",
        "    \"/content/playlist_download.zip\"\n",
        "]\n",
        "\n",
        "for path in paths_to_delete:\n",
        "    try:\n",
        "        if os.path.exists(path):\n",
        "            if os.path.isfile(path):\n",
        "                os.remove(path)\n",
        "                print(f\"🗑️ Deleted file: {path}\")\n",
        "            else:\n",
        "                shutil.rmtree(path)\n",
        "                print(f\"🗑️ Deleted folder: {path}\")\n",
        "        else:\n",
        "            print(f\"⚠️ Path not found: {path}\")\n",
        "    except Exception as e:\n",
        "        print(f\"❌ Error deleting {path}: {e}\")\n"
      ],
      "metadata": {
        "id": "Id1H64qIPoLl"
      },
      "execution_count": null,
      "outputs": []
    },
    {
      "cell_type": "code",
      "source": [
        "delete_folder_after_delay(\"/content/playlist_download.zip\", delay_seconds=20)\n"
      ],
      "metadata": {
        "id": "MlKekFjEPvMp"
      },
      "execution_count": null,
      "outputs": []
    }
  ]
}